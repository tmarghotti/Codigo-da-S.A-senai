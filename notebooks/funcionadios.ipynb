{
  "cells": [
    {
      "cell_type": "markdown",
      "metadata": {
        "id": "view-in-github",
        "colab_type": "text"
      },
      "source": [
        "<a href=\"https://colab.research.google.com/github/tmarghotti/Codigo-da-S.A-senai/blob/main/notebooks/funcionadios.ipynb\" target=\"_parent\"><img src=\"https://colab.research.google.com/assets/colab-badge.svg\" alt=\"Open In Colab\"/></a>"
      ]
    },
    {
      "cell_type": "markdown",
      "metadata": {
        "id": "Fcr-WeSzAROV"
      },
      "source": [
        "# 📝 Funcionários\n",
        "\n",
        "Neste exercício, você vai praticar Pandas seguindo o modelo do tutorial dos alunos. Use este notebook para escrever seu código e testar as respostas."
      ],
      "id": "Fcr-WeSzAROV"
    },
    {
      "cell_type": "markdown",
      "metadata": {
        "id": "b3xcKOLdAROW"
      },
      "source": [
        "## Arquivo base\n",
        "O CSV `funcionarios.csv` contém os seguintes dados:\n",
        "\n",
        "| Nome | Idade | Salario |\n",
        "|------|-------|---------|\n",
        "| Paula | 25 | 3200 |\n",
        "| Rafael | 30 | 4500 |\n",
        "| Mariana | 28 | 3800 |\n",
        "| Bruno | 35 | 5000 |\n",
        "| Letícia | 22 | 2800 |"
      ],
      "id": "b3xcKOLdAROW"
    },
    {
      "cell_type": "code",
      "metadata": {
        "id": "l77HTqgaAROX",
        "outputId": "a1196873-f03e-45fb-d30a-521e4777a9c9",
        "colab": {
          "base_uri": "https://localhost:8080/"
        }
      },
      "source": [
        "# 1️⃣ Importando Pandas e lendo o CSV\n",
        "import pandas as pd\n",
        "\n",
        "# URL raw do CSV no GitHub\n",
        "url = \"https://raw.githubusercontent.com/lukas-senai/pandas-tutorial/main/assets/funcionarios.csv\"\n",
        "\n",
        "# Ler o CSV\n",
        "df = pd.read_csv(url)\n",
        "\n",
        "# Mostrar o DataFrame\n",
        "print(df)"
      ],
      "execution_count": 1,
      "outputs": [
        {
          "output_type": "stream",
          "name": "stdout",
          "text": [
            "      Nome  Idade  Salario\n",
            "0    Paula     25     3200\n",
            "1   Rafael     30     4500\n",
            "2  Mariana     28     3800\n",
            "3    Bruno     35     5000\n",
            "4  Letícia     22     2800\n"
          ]
        }
      ],
      "id": "l77HTqgaAROX"
    },
    {
      "cell_type": "markdown",
      "metadata": {
        "id": "zSUaJ9yoAROX"
      },
      "source": [
        "## 2️⃣ Seleção de colunas\n",
        "- Mostrar apenas a coluna `Nome`\n",
        "- Mostrar as colunas `Nome` e `Salario`"
      ],
      "id": "zSUaJ9yoAROX"
    },
    {
      "cell_type": "code",
      "metadata": {
        "id": "zcE3B30tAROY",
        "outputId": "5ea34bd4-5694-4590-fe11-14baf96d0cce",
        "colab": {
          "base_uri": "https://localhost:8080/",
          "height": 206
        }
      },
      "source": [
        "df[[\"Nome\",\"Salario\"]]"
      ],
      "execution_count": 3,
      "outputs": [
        {
          "output_type": "execute_result",
          "data": {
            "text/plain": [
              "      Nome  Salario\n",
              "0    Paula     3200\n",
              "1   Rafael     4500\n",
              "2  Mariana     3800\n",
              "3    Bruno     5000\n",
              "4  Letícia     2800"
            ],
            "text/html": [
              "\n",
              "  <div id=\"df-7e6940ea-f9c5-45be-b6f9-3c41f1f1d83c\" class=\"colab-df-container\">\n",
              "    <div>\n",
              "<style scoped>\n",
              "    .dataframe tbody tr th:only-of-type {\n",
              "        vertical-align: middle;\n",
              "    }\n",
              "\n",
              "    .dataframe tbody tr th {\n",
              "        vertical-align: top;\n",
              "    }\n",
              "\n",
              "    .dataframe thead th {\n",
              "        text-align: right;\n",
              "    }\n",
              "</style>\n",
              "<table border=\"1\" class=\"dataframe\">\n",
              "  <thead>\n",
              "    <tr style=\"text-align: right;\">\n",
              "      <th></th>\n",
              "      <th>Nome</th>\n",
              "      <th>Salario</th>\n",
              "    </tr>\n",
              "  </thead>\n",
              "  <tbody>\n",
              "    <tr>\n",
              "      <th>0</th>\n",
              "      <td>Paula</td>\n",
              "      <td>3200</td>\n",
              "    </tr>\n",
              "    <tr>\n",
              "      <th>1</th>\n",
              "      <td>Rafael</td>\n",
              "      <td>4500</td>\n",
              "    </tr>\n",
              "    <tr>\n",
              "      <th>2</th>\n",
              "      <td>Mariana</td>\n",
              "      <td>3800</td>\n",
              "    </tr>\n",
              "    <tr>\n",
              "      <th>3</th>\n",
              "      <td>Bruno</td>\n",
              "      <td>5000</td>\n",
              "    </tr>\n",
              "    <tr>\n",
              "      <th>4</th>\n",
              "      <td>Letícia</td>\n",
              "      <td>2800</td>\n",
              "    </tr>\n",
              "  </tbody>\n",
              "</table>\n",
              "</div>\n",
              "    <div class=\"colab-df-buttons\">\n",
              "\n",
              "  <div class=\"colab-df-container\">\n",
              "    <button class=\"colab-df-convert\" onclick=\"convertToInteractive('df-7e6940ea-f9c5-45be-b6f9-3c41f1f1d83c')\"\n",
              "            title=\"Convert this dataframe to an interactive table.\"\n",
              "            style=\"display:none;\">\n",
              "\n",
              "  <svg xmlns=\"http://www.w3.org/2000/svg\" height=\"24px\" viewBox=\"0 -960 960 960\">\n",
              "    <path d=\"M120-120v-720h720v720H120Zm60-500h600v-160H180v160Zm220 220h160v-160H400v160Zm0 220h160v-160H400v160ZM180-400h160v-160H180v160Zm440 0h160v-160H620v160ZM180-180h160v-160H180v160Zm440 0h160v-160H620v160Z\"/>\n",
              "  </svg>\n",
              "    </button>\n",
              "\n",
              "  <style>\n",
              "    .colab-df-container {\n",
              "      display:flex;\n",
              "      gap: 12px;\n",
              "    }\n",
              "\n",
              "    .colab-df-convert {\n",
              "      background-color: #E8F0FE;\n",
              "      border: none;\n",
              "      border-radius: 50%;\n",
              "      cursor: pointer;\n",
              "      display: none;\n",
              "      fill: #1967D2;\n",
              "      height: 32px;\n",
              "      padding: 0 0 0 0;\n",
              "      width: 32px;\n",
              "    }\n",
              "\n",
              "    .colab-df-convert:hover {\n",
              "      background-color: #E2EBFA;\n",
              "      box-shadow: 0px 1px 2px rgba(60, 64, 67, 0.3), 0px 1px 3px 1px rgba(60, 64, 67, 0.15);\n",
              "      fill: #174EA6;\n",
              "    }\n",
              "\n",
              "    .colab-df-buttons div {\n",
              "      margin-bottom: 4px;\n",
              "    }\n",
              "\n",
              "    [theme=dark] .colab-df-convert {\n",
              "      background-color: #3B4455;\n",
              "      fill: #D2E3FC;\n",
              "    }\n",
              "\n",
              "    [theme=dark] .colab-df-convert:hover {\n",
              "      background-color: #434B5C;\n",
              "      box-shadow: 0px 1px 3px 1px rgba(0, 0, 0, 0.15);\n",
              "      filter: drop-shadow(0px 1px 2px rgba(0, 0, 0, 0.3));\n",
              "      fill: #FFFFFF;\n",
              "    }\n",
              "  </style>\n",
              "\n",
              "    <script>\n",
              "      const buttonEl =\n",
              "        document.querySelector('#df-7e6940ea-f9c5-45be-b6f9-3c41f1f1d83c button.colab-df-convert');\n",
              "      buttonEl.style.display =\n",
              "        google.colab.kernel.accessAllowed ? 'block' : 'none';\n",
              "\n",
              "      async function convertToInteractive(key) {\n",
              "        const element = document.querySelector('#df-7e6940ea-f9c5-45be-b6f9-3c41f1f1d83c');\n",
              "        const dataTable =\n",
              "          await google.colab.kernel.invokeFunction('convertToInteractive',\n",
              "                                                    [key], {});\n",
              "        if (!dataTable) return;\n",
              "\n",
              "        const docLinkHtml = 'Like what you see? Visit the ' +\n",
              "          '<a target=\"_blank\" href=https://colab.research.google.com/notebooks/data_table.ipynb>data table notebook</a>'\n",
              "          + ' to learn more about interactive tables.';\n",
              "        element.innerHTML = '';\n",
              "        dataTable['output_type'] = 'display_data';\n",
              "        await google.colab.output.renderOutput(dataTable, element);\n",
              "        const docLink = document.createElement('div');\n",
              "        docLink.innerHTML = docLinkHtml;\n",
              "        element.appendChild(docLink);\n",
              "      }\n",
              "    </script>\n",
              "  </div>\n",
              "\n",
              "\n",
              "    <div id=\"df-5948517a-ace5-4c54-82ce-faa5d714426c\">\n",
              "      <button class=\"colab-df-quickchart\" onclick=\"quickchart('df-5948517a-ace5-4c54-82ce-faa5d714426c')\"\n",
              "                title=\"Suggest charts\"\n",
              "                style=\"display:none;\">\n",
              "\n",
              "<svg xmlns=\"http://www.w3.org/2000/svg\" height=\"24px\"viewBox=\"0 0 24 24\"\n",
              "     width=\"24px\">\n",
              "    <g>\n",
              "        <path d=\"M19 3H5c-1.1 0-2 .9-2 2v14c0 1.1.9 2 2 2h14c1.1 0 2-.9 2-2V5c0-1.1-.9-2-2-2zM9 17H7v-7h2v7zm4 0h-2V7h2v10zm4 0h-2v-4h2v4z\"/>\n",
              "    </g>\n",
              "</svg>\n",
              "      </button>\n",
              "\n",
              "<style>\n",
              "  .colab-df-quickchart {\n",
              "      --bg-color: #E8F0FE;\n",
              "      --fill-color: #1967D2;\n",
              "      --hover-bg-color: #E2EBFA;\n",
              "      --hover-fill-color: #174EA6;\n",
              "      --disabled-fill-color: #AAA;\n",
              "      --disabled-bg-color: #DDD;\n",
              "  }\n",
              "\n",
              "  [theme=dark] .colab-df-quickchart {\n",
              "      --bg-color: #3B4455;\n",
              "      --fill-color: #D2E3FC;\n",
              "      --hover-bg-color: #434B5C;\n",
              "      --hover-fill-color: #FFFFFF;\n",
              "      --disabled-bg-color: #3B4455;\n",
              "      --disabled-fill-color: #666;\n",
              "  }\n",
              "\n",
              "  .colab-df-quickchart {\n",
              "    background-color: var(--bg-color);\n",
              "    border: none;\n",
              "    border-radius: 50%;\n",
              "    cursor: pointer;\n",
              "    display: none;\n",
              "    fill: var(--fill-color);\n",
              "    height: 32px;\n",
              "    padding: 0;\n",
              "    width: 32px;\n",
              "  }\n",
              "\n",
              "  .colab-df-quickchart:hover {\n",
              "    background-color: var(--hover-bg-color);\n",
              "    box-shadow: 0 1px 2px rgba(60, 64, 67, 0.3), 0 1px 3px 1px rgba(60, 64, 67, 0.15);\n",
              "    fill: var(--button-hover-fill-color);\n",
              "  }\n",
              "\n",
              "  .colab-df-quickchart-complete:disabled,\n",
              "  .colab-df-quickchart-complete:disabled:hover {\n",
              "    background-color: var(--disabled-bg-color);\n",
              "    fill: var(--disabled-fill-color);\n",
              "    box-shadow: none;\n",
              "  }\n",
              "\n",
              "  .colab-df-spinner {\n",
              "    border: 2px solid var(--fill-color);\n",
              "    border-color: transparent;\n",
              "    border-bottom-color: var(--fill-color);\n",
              "    animation:\n",
              "      spin 1s steps(1) infinite;\n",
              "  }\n",
              "\n",
              "  @keyframes spin {\n",
              "    0% {\n",
              "      border-color: transparent;\n",
              "      border-bottom-color: var(--fill-color);\n",
              "      border-left-color: var(--fill-color);\n",
              "    }\n",
              "    20% {\n",
              "      border-color: transparent;\n",
              "      border-left-color: var(--fill-color);\n",
              "      border-top-color: var(--fill-color);\n",
              "    }\n",
              "    30% {\n",
              "      border-color: transparent;\n",
              "      border-left-color: var(--fill-color);\n",
              "      border-top-color: var(--fill-color);\n",
              "      border-right-color: var(--fill-color);\n",
              "    }\n",
              "    40% {\n",
              "      border-color: transparent;\n",
              "      border-right-color: var(--fill-color);\n",
              "      border-top-color: var(--fill-color);\n",
              "    }\n",
              "    60% {\n",
              "      border-color: transparent;\n",
              "      border-right-color: var(--fill-color);\n",
              "    }\n",
              "    80% {\n",
              "      border-color: transparent;\n",
              "      border-right-color: var(--fill-color);\n",
              "      border-bottom-color: var(--fill-color);\n",
              "    }\n",
              "    90% {\n",
              "      border-color: transparent;\n",
              "      border-bottom-color: var(--fill-color);\n",
              "    }\n",
              "  }\n",
              "</style>\n",
              "\n",
              "      <script>\n",
              "        async function quickchart(key) {\n",
              "          const quickchartButtonEl =\n",
              "            document.querySelector('#' + key + ' button');\n",
              "          quickchartButtonEl.disabled = true;  // To prevent multiple clicks.\n",
              "          quickchartButtonEl.classList.add('colab-df-spinner');\n",
              "          try {\n",
              "            const charts = await google.colab.kernel.invokeFunction(\n",
              "                'suggestCharts', [key], {});\n",
              "          } catch (error) {\n",
              "            console.error('Error during call to suggestCharts:', error);\n",
              "          }\n",
              "          quickchartButtonEl.classList.remove('colab-df-spinner');\n",
              "          quickchartButtonEl.classList.add('colab-df-quickchart-complete');\n",
              "        }\n",
              "        (() => {\n",
              "          let quickchartButtonEl =\n",
              "            document.querySelector('#df-5948517a-ace5-4c54-82ce-faa5d714426c button');\n",
              "          quickchartButtonEl.style.display =\n",
              "            google.colab.kernel.accessAllowed ? 'block' : 'none';\n",
              "        })();\n",
              "      </script>\n",
              "    </div>\n",
              "\n",
              "    </div>\n",
              "  </div>\n"
            ],
            "application/vnd.google.colaboratory.intrinsic+json": {
              "type": "dataframe",
              "summary": "{\n  \"name\": \"df[[\\\"Nome\\\",\\\"Salario\\\"]]\",\n  \"rows\": 5,\n  \"fields\": [\n    {\n      \"column\": \"Nome\",\n      \"properties\": {\n        \"dtype\": \"string\",\n        \"num_unique_values\": 5,\n        \"samples\": [\n          \"Rafael\",\n          \"Let\\u00edcia\",\n          \"Mariana\"\n        ],\n        \"semantic_type\": \"\",\n        \"description\": \"\"\n      }\n    },\n    {\n      \"column\": \"Salario\",\n      \"properties\": {\n        \"dtype\": \"number\",\n        \"std\": 904,\n        \"min\": 2800,\n        \"max\": 5000,\n        \"num_unique_values\": 5,\n        \"samples\": [\n          4500,\n          2800,\n          3800\n        ],\n        \"semantic_type\": \"\",\n        \"description\": \"\"\n      }\n    }\n  ]\n}"
            }
          },
          "metadata": {},
          "execution_count": 3
        }
      ],
      "id": "zcE3B30tAROY"
    },
    {
      "cell_type": "markdown",
      "metadata": {
        "id": "HRRh3bj7AROY"
      },
      "source": [
        "## 3️⃣ Filtrando informações\n",
        "- Funcionários com salário >= 4000\n",
        "- Funcionários com idade < 30"
      ],
      "id": "HRRh3bj7AROY"
    },
    {
      "cell_type": "code",
      "metadata": {
        "id": "83me-H0gAROY",
        "outputId": "e62e5684-67b3-48a2-dd1b-e5e7b215c5fe",
        "colab": {
          "base_uri": "https://localhost:8080/"
        }
      },
      "source": [
        "funcionarios_salario_4000 = df[df[\"Salario\"] >= 4000]\n",
        "idade = df[df[\"Idade\"] < 30]\n",
        "print(funcionarios_salario_4000)\n",
        "print(idade)"
      ],
      "execution_count": 8,
      "outputs": [
        {
          "output_type": "stream",
          "name": "stdout",
          "text": [
            "     Nome  Idade  Salario\n",
            "1  Rafael     30     4500\n",
            "3   Bruno     35     5000\n",
            "      Nome  Idade  Salario\n",
            "0    Paula     25     3200\n",
            "2  Mariana     28     3800\n",
            "4  Letícia     22     2800\n"
          ]
        }
      ],
      "id": "83me-H0gAROY"
    },
    {
      "cell_type": "markdown",
      "metadata": {
        "id": "emvtkjJwAROY"
      },
      "source": [
        "## 4️⃣ Estatísticas básicas\n",
        "- Calcular a média salarial\n",
        "- Descobrir o maior e menor salário\n",
        "- Contar quantos funcionários têm idade >= 30"
      ],
      "id": "emvtkjJwAROY"
    },
    {
      "cell_type": "code",
      "metadata": {
        "id": "C7lLHUxWAROY",
        "outputId": "8d851af5-e0a9-4ee9-b2be-f41b3a529f1e",
        "colab": {
          "base_uri": "https://localhost:8080/"
        }
      },
      "source": [
        "calcular_salario_medio = df[\"Salario\"].mean()\n",
        "print(calcular_salario_medio)\n",
        "descobrir_maior_salario = df[\"Salario\"].max()\n",
        "print(descobrir_maior_salario)\n",
        "descobrir_menor_salario = df[\"Salario\"].min()\n",
        "print(descobrir_menor_salario)\n",
        "contar = df[df[\"Idade\"] >= 30]\n",
        "print(contar)\n"
      ],
      "execution_count": 9,
      "outputs": [
        {
          "output_type": "stream",
          "name": "stdout",
          "text": [
            "3860.0\n",
            "5000\n",
            "2800\n",
            "     Nome  Idade  Salario\n",
            "1  Rafael     30     4500\n",
            "3   Bruno     35     5000\n"
          ]
        }
      ],
      "id": "C7lLHUxWAROY"
    },
    {
      "cell_type": "markdown",
      "metadata": {
        "id": "t7zGkz4hAROZ"
      },
      "source": [
        "## 5️⃣ Criando nova coluna: Faixa salarial\n",
        "- Adicione uma coluna `Faixa` com valor `Alta` se salário >= 4000 e `Baixa` caso contrário"
      ],
      "id": "t7zGkz4hAROZ"
    },
    {
      "cell_type": "code",
      "metadata": {
        "id": "auRuE6iGAROZ",
        "outputId": "7a4a0521-6b6e-4180-ff73-6401ed27e367",
        "colab": {
          "base_uri": "https://localhost:8080/"
        }
      },
      "source": [
        "df[\"Faixa\"] = df[\"Salario\"].apply(lambda x: \"Alta\" if x >= 4000 else \"Baixa\")\n",
        "print(df)"
      ],
      "execution_count": 11,
      "outputs": [
        {
          "output_type": "stream",
          "name": "stdout",
          "text": [
            "      Nome  Idade  Salario  Faixa\n",
            "0    Paula     25     3200  Baixa\n",
            "1   Rafael     30     4500   Alta\n",
            "2  Mariana     28     3800  Baixa\n",
            "3    Bruno     35     5000   Alta\n",
            "4  Letícia     22     2800  Baixa\n"
          ]
        }
      ],
      "id": "auRuE6iGAROZ"
    },
    {
      "cell_type": "markdown",
      "metadata": {
        "id": "uPHwoAElAROZ"
      },
      "source": [
        "## 6️⃣ Ordenando dados\n",
        "- Ordenar por salário do maior para o menor\n",
        "- Ordenar por nome em ordem alfabética"
      ],
      "id": "uPHwoAElAROZ"
    },
    {
      "cell_type": "code",
      "metadata": {
        "id": "s6WC2I9uAROZ"
      },
      "source": [
        "ordenar_salario = df.sort_values(by=\"Salario\", ascending=False)\n",
        "print(ordenar_salario)\n",
        "ordenar_nome = df.sort_values(by=\"Nome\")\n",
        "print(ordenar_nome)"
      ],
      "execution_count": null,
      "outputs": [],
      "id": "s6WC2I9uAROZ"
    },
    {
      "cell_type": "markdown",
      "metadata": {
        "id": "4t_NdANdAROZ"
      },
      "source": [
        "## 7️⃣ Exportando resultados\n",
        "- Salve o DataFrame em um arquivo chamado `relatorio_funcionarios.csv`"
      ],
      "id": "4t_NdANdAROZ"
    },
    {
      "cell_type": "code",
      "metadata": {
        "id": "WYWJZu8tAROZ"
      },
      "source": [
        "salve = df.to_csv(\"relatorio_funcionarios.csv\", index=False)"
      ],
      "execution_count": 12,
      "outputs": [],
      "id": "WYWJZu8tAROZ"
    },
    {
      "cell_type": "markdown",
      "metadata": {
        "id": "TdA-M40MAROZ"
      },
      "source": [
        "## 8️⃣ Média por faixa salarial\n",
        "- Calcule a média salarial para os funcionários da faixa `Alta`\n",
        "- Calcule a média salarial para os funcionários da faixa `Baixa`"
      ],
      "id": "TdA-M40MAROZ"
    },
    {
      "cell_type": "code",
      "metadata": {
        "id": "ZNhFAUXdAROZ"
      },
      "source": [
        "media_salarial_alta = df[df[\"Faixa\"] == \"Alta\"][\"Salario\"].mean()\n",
        "media_salarial_baixa = df[df[\"Faixa\"] == \"Baixa\"][\"Salario\"].mean()"
      ],
      "execution_count": null,
      "outputs": [],
      "id": "ZNhFAUXdAROZ"
    }
  ],
  "metadata": {
    "kernelspec": {
      "display_name": "Python 3",
      "language": "python",
      "name": "python3"
    },
    "language_info": {
      "name": "python",
      "version": "3.11"
    },
    "colab": {
      "provenance": [],
      "toc_visible": true,
      "include_colab_link": true
    }
  },
  "nbformat": 4,
  "nbformat_minor": 5
}